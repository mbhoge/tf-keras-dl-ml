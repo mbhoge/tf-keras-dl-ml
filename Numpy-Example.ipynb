{
 "cells": [
  {
   "cell_type": "code",
   "execution_count": 6,
   "id": "13707a8d",
   "metadata": {},
   "outputs": [],
   "source": [
    "import numpy as np"
   ]
  },
  {
   "cell_type": "markdown",
   "id": "4f428cd4",
   "metadata": {},
   "source": [
    "# Create a 1-dimensional NumPy array using np.array()\n",
    "\n",
    "\n",
    "# Create a 2-dimensional NumPy array using np.array()\n",
    "\n",
    "\n",
    "# Create a 3-dimensional Numpy array using np.array()"
   ]
  },
  {
   "cell_type": "code",
   "execution_count": 31,
   "id": "00ff7b89",
   "metadata": {},
   "outputs": [],
   "source": [
    "# 1- D Arrary\n",
    "a1 = np.array([3,5,8,9])"
   ]
  },
  {
   "cell_type": "code",
   "execution_count": 32,
   "id": "570bc7a3",
   "metadata": {},
   "outputs": [],
   "source": [
    "# 2 - D Array\n",
    "a2 = np.array([[2,4,6,8],[3,5,7,9]])"
   ]
  },
  {
   "cell_type": "code",
   "execution_count": 33,
   "id": "826c86aa",
   "metadata": {},
   "outputs": [],
   "source": [
    "# 3 - D Array\n",
    "a3 = np.array([[[3,4,5,6],[5,6,7,8]],\n",
    "                 [[9,0,1,2],[3,4,5,6]],\n",
    "                [[7,8,9,0],[1,2,3,4]]])"
   ]
  },
  {
   "cell_type": "markdown",
   "id": "953aedfc",
   "metadata": {},
   "source": [
    "\n",
    "    np.array()\n",
    "    np.ones()\n",
    "    np.zeros()\n",
    "    np.random.rand(5, 3)\n",
    "    np.random.randint(10, size=5)\n",
    "    np.random.seed() - pseudo random numbers\n",
    "    Searching the documentation example (finding np.unique() and using it)\n"
   ]
  },
  {
   "cell_type": "code",
   "execution_count": 15,
   "id": "68bc535c",
   "metadata": {},
   "outputs": [
    {
     "data": {
      "text/plain": [
       "array([1, 2, 3])"
      ]
     },
     "execution_count": 15,
     "metadata": {},
     "output_type": "execute_result"
    }
   ],
   "source": [
    "# Create a simple array\n",
    "simple_array = np.array([1, 2, 3])\n",
    "simple_array"
   ]
  },
  {
   "cell_type": "code",
   "execution_count": 16,
   "id": "943bcef5",
   "metadata": {},
   "outputs": [
    {
     "data": {
      "text/plain": [
       "(array([4, 5, 6]), dtype('int32'))"
      ]
     },
     "execution_count": 16,
     "metadata": {},
     "output_type": "execute_result"
    }
   ],
   "source": [
    "simple_array = np.array((4, 5, 6))\n",
    "simple_array, simple_array.dtype"
   ]
  },
  {
   "cell_type": "code",
   "execution_count": 17,
   "id": "5b8ab7c5",
   "metadata": {},
   "outputs": [
    {
     "data": {
      "text/plain": [
       "array([[0.46982939, 0.40920834, 0.65946464],\n",
       "       [0.49851712, 0.36898598, 0.41069548],\n",
       "       [0.01521316, 0.35057764, 0.99119256],\n",
       "       [0.81727705, 0.27385004, 0.53961192],\n",
       "       [0.27616366, 0.27334183, 0.48043132]])"
      ]
     },
     "execution_count": 17,
     "metadata": {},
     "output_type": "execute_result"
    }
   ],
   "source": [
    "np.random.rand(5, 3)"
   ]
  },
  {
   "cell_type": "code",
   "execution_count": 18,
   "id": "a9c9791b",
   "metadata": {},
   "outputs": [
    {
     "data": {
      "text/plain": [
       "array([7, 7, 8, 3, 6])"
      ]
     },
     "execution_count": 18,
     "metadata": {},
     "output_type": "execute_result"
    }
   ],
   "source": [
    "np.random.randint(10, size=5)"
   ]
  },
  {
   "cell_type": "code",
   "execution_count": 21,
   "id": "ab37bfa6",
   "metadata": {},
   "outputs": [],
   "source": [
    "np.random.seed(0)"
   ]
  },
  {
   "cell_type": "code",
   "execution_count": 22,
   "id": "a624d634",
   "metadata": {},
   "outputs": [
    {
     "data": {
      "text/plain": [
       "array([[5, 0, 3],\n",
       "       [3, 7, 9],\n",
       "       [3, 5, 2],\n",
       "       [4, 7, 6],\n",
       "       [8, 8, 1]])"
      ]
     },
     "execution_count": 22,
     "metadata": {},
     "output_type": "execute_result"
    }
   ],
   "source": [
    "np.random.randint(10, size=(5, 3))"
   ]
  },
  {
   "cell_type": "markdown",
   "id": "2b01792b",
   "metadata": {},
   "source": [
    "2-D random array size of [5,3]"
   ]
  },
  {
   "cell_type": "code",
   "execution_count": 26,
   "id": "2c888a21",
   "metadata": {},
   "outputs": [
    {
     "data": {
      "text/plain": [
       "array([[0.97645947, 0.4686512 , 0.97676109],\n",
       "       [0.60484552, 0.73926358, 0.03918779],\n",
       "       [0.28280696, 0.12019656, 0.2961402 ],\n",
       "       [0.11872772, 0.31798318, 0.41426299],\n",
       "       [0.0641475 , 0.69247212, 0.56660145]])"
      ]
     },
     "execution_count": 26,
     "metadata": {},
     "output_type": "execute_result"
    }
   ],
   "source": [
    "np.random.random([5,3])"
   ]
  },
  {
   "cell_type": "markdown",
   "id": "1899943e",
   "metadata": {},
   "source": [
    "3-D random array size of [5,3,2]"
   ]
  },
  {
   "cell_type": "code",
   "execution_count": 28,
   "id": "61e5dd28",
   "metadata": {},
   "outputs": [
    {
     "data": {
      "text/plain": [
       "array([[[0.61801543, 0.4287687 ],\n",
       "        [0.13547406, 0.29828233],\n",
       "        [0.56996491, 0.59087276]],\n",
       "\n",
       "       [[0.57432525, 0.65320082],\n",
       "        [0.65210327, 0.43141844],\n",
       "        [0.8965466 , 0.36756187]],\n",
       "\n",
       "       [[0.43586493, 0.89192336],\n",
       "        [0.80619399, 0.70388858],\n",
       "        [0.10022689, 0.91948261]],\n",
       "\n",
       "       [[0.7142413 , 0.99884701],\n",
       "        [0.1494483 , 0.86812606],\n",
       "        [0.16249293, 0.61555956]],\n",
       "\n",
       "       [[0.12381998, 0.84800823],\n",
       "        [0.80731896, 0.56910074],\n",
       "        [0.4071833 , 0.069167  ]]])"
      ]
     },
     "execution_count": 28,
     "metadata": {},
     "output_type": "execute_result"
    }
   ],
   "source": [
    "np.random.random([5,3,2])"
   ]
  },
  {
   "cell_type": "code",
   "execution_count": 29,
   "id": "a4c8ba12",
   "metadata": {},
   "outputs": [
    {
     "data": {
      "text/plain": [
       "array([0.01171408, 0.01852179, 0.05433799, 0.17162968, 0.19999652,\n",
       "       0.35997806, 0.45354268, 0.52103661, 0.69742877, 0.7220556 ,\n",
       "       0.72999056, 0.7936977 , 0.85580334, 0.86638233, 0.97552151])"
      ]
     },
     "execution_count": 29,
     "metadata": {},
     "output_type": "execute_result"
    }
   ],
   "source": [
    "np.unique(np.random.random([5,3]))"
   ]
  },
  {
   "cell_type": "code",
   "execution_count": 34,
   "id": "3abb5b8d",
   "metadata": {},
   "outputs": [
    {
     "data": {
      "text/plain": [
       "array([[3, 4, 5, 6],\n",
       "       [5, 6, 7, 8]])"
      ]
     },
     "execution_count": 34,
     "metadata": {},
     "output_type": "execute_result"
    }
   ],
   "source": [
    "a3[0]"
   ]
  },
  {
   "cell_type": "code",
   "execution_count": 39,
   "id": "91e3117b",
   "metadata": {},
   "outputs": [
    {
     "data": {
      "text/plain": [
       "array([[[3, 4],\n",
       "        [5, 6]],\n",
       "\n",
       "       [[9, 0],\n",
       "        [3, 4]],\n",
       "\n",
       "       [[7, 8],\n",
       "        [1, 2]]])"
      ]
     },
     "execution_count": 39,
     "metadata": {},
     "output_type": "execute_result"
    }
   ],
   "source": [
    "a3[:3,:2,:2]"
   ]
  },
  {
   "cell_type": "code",
   "execution_count": 36,
   "id": "c7e4e19f",
   "metadata": {},
   "outputs": [
    {
     "data": {
      "text/plain": [
       "array([[[3, 4, 5, 6],\n",
       "        [5, 6, 7, 8]],\n",
       "\n",
       "       [[9, 0, 1, 2],\n",
       "        [3, 4, 5, 6]],\n",
       "\n",
       "       [[7, 8, 9, 0],\n",
       "        [1, 2, 3, 4]]])"
      ]
     },
     "execution_count": 36,
     "metadata": {},
     "output_type": "execute_result"
    }
   ],
   "source": [
    "a3"
   ]
  },
  {
   "cell_type": "code",
   "execution_count": null,
   "id": "3db8ce9b",
   "metadata": {},
   "outputs": [],
   "source": []
  }
 ],
 "metadata": {
  "kernelspec": {
   "display_name": "Python 3 (ipykernel)",
   "language": "python",
   "name": "python3"
  },
  "language_info": {
   "codemirror_mode": {
    "name": "ipython",
    "version": 3
   },
   "file_extension": ".py",
   "mimetype": "text/x-python",
   "name": "python",
   "nbconvert_exporter": "python",
   "pygments_lexer": "ipython3",
   "version": "3.9.12"
  }
 },
 "nbformat": 4,
 "nbformat_minor": 5
}
