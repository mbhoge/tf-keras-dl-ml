{
 "cells": [
  {
   "cell_type": "code",
   "execution_count": 6,
   "id": "13707a8d",
   "metadata": {},
   "outputs": [],
   "source": [
    "import numpy as np"
   ]
  },
  {
   "cell_type": "markdown",
   "id": "0885311b",
   "metadata": {},
   "source": [
    "# Create a 1-dimensional NumPy array using np.array()\n",
    "\n",
    "\n",
    "# Create a 2-dimensional NumPy array using np.array()\n",
    "\n",
    "\n",
    "# Create a 3-dimensional Numpy array using np.array()"
   ]
  },
  {
   "cell_type": "code",
   "execution_count": 7,
   "id": "f51b9bb2",
   "metadata": {},
   "outputs": [],
   "source": [
    "# 1- D Arrary\n",
    "one = np.array([3,5,8,9])"
   ]
  },
  {
   "cell_type": "code",
   "execution_count": 10,
   "id": "ae96d0d5",
   "metadata": {},
   "outputs": [],
   "source": [
    "# 2 - D Array\n",
    "two = np.array([[2,4,6,8],[3,5,7,9]])"
   ]
  },
  {
   "cell_type": "code",
   "execution_count": 14,
   "id": "e44ed378",
   "metadata": {},
   "outputs": [],
   "source": [
    "# 3 - D Array\n",
    "three = np.array([[[3,4,5,6],[5,6,7,8]],\n",
    "                 [[9,0,1,2],[3,4,5,6]],\n",
    "                [[7,8,9,0],[1,2,3,4]]])"
   ]
  },
  {
   "cell_type": "code",
   "execution_count": null,
   "id": "368a10aa",
   "metadata": {},
   "outputs": [],
   "source": []
  }
 ],
 "metadata": {
  "kernelspec": {
   "display_name": "Python 3 (ipykernel)",
   "language": "python",
   "name": "python3"
  },
  "language_info": {
   "codemirror_mode": {
    "name": "ipython",
    "version": 3
   },
   "file_extension": ".py",
   "mimetype": "text/x-python",
   "name": "python",
   "nbconvert_exporter": "python",
   "pygments_lexer": "ipython3",
   "version": "3.9.12"
  }
 },
 "nbformat": 4,
 "nbformat_minor": 5
}
